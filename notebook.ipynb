{
 "cells": [
  {
   "cell_type": "markdown",
   "metadata": {},
   "source": [
    "# Laser pulse propagation in optical fiber"
   ]
  },
  {
   "cell_type": "markdown",
   "metadata": {},
   "source": [
    "This notebook shows a simple, scalar implementation of the finite difference <a href=\"#1\">[1]</a> for solving the Nonlinear Schrödinger Equation <a href=\"#2\">[2]</a>.\n",
    "\n",
    "$\\frac{\\partial A}{\\partial z}=-\\frac{\\alpha}{2}A+i \\frac{\\beta_2}{2} \\frac{\\partial^2 A}{\\partial t^2}-i \\gamma(|A|^2A)$\n",
    "\n",
    "This nonlinear partial differential equation models how the envelope and phase of light pulse changes when propagating through a single mode optical fiber, when taking power attenuation ($\\alpha$), group velocity dispersion ($\\beta_2$)and waveguide nonlinearity ($\\gamma$) causing self-phase modulation (SPM) into account. A is the slowly varying amplitude of the pulse envelope and t is measured in a frame of reference moving with the pulse at the group velocity $v_g$. The nonlinear Schrödinger equation (for optics) can be derived from the wave equation. However we can choose between two (Fourier transform) notations. The derivation with the negative one can be found in Ursula Keller's book <a href=\"#3\">[3]</a>. I used this, because the scipy library uses the negative convention for the DFT. Depending on the initial width $T_0$ and the peak power $P_0$ of the incident pulse, either dispersive or non linear\n",
    "effects may dominate along the fiber. It is useful to introduce two length scales, known as the dispersion length $L_D$ and the nonlinear length $L_{NL}$. Let us consider a time scale normalized to the input width $T_0$ as:\n",
    "\n",
    "$\\tau=\\frac{t}{T_0}$\n",
    "\n",
    "In addition, we introduce a normalized amplitude U as:\n",
    "\n",
    "$A(z,\\tau)=\\sqrt{P_0}e^{\\frac{- \\alpha Z}{2}}U(z,\\tau)$\n",
    "\n",
    "We now take into consideration a space scale normalized to the fiber length as:\n",
    "\n",
    "$\\zeta=\\frac{z}{L}$\n",
    "\n",
    "Where L is the fiber length. Thus, it turns out that $U(\\zeta,\\tau)$ satisfies\n",
    "\n",
    "$\\frac{\\partial U}{\\partial \\zeta}=+i \\frac{L}{2 L_D} sgn(\\beta_2) \\frac{\\partial^2 U}{\\partial \\tau^2}-i e^{- \\alpha Z \\zeta} \\frac{L}{L_{NL}} (|U|^2 U)$\n",
    "\n",
    "Where $sgn(\\beta_2)=\\pm 1$ depending on the sign of the coefficient $\\beta_2$ and\n",
    "\n",
    "$L_D=\\frac{T_0 ^ 2}{|\\beta_2|}$\n",
    "\n",
    "$L_{NL}=\\frac{1}{\\gamma_0 P_0}$\n",
    "\n",
    "The concept behind this normalization process is to exclude any kind of overflow error that may occur during solving the PDE with finite difference method. The derivation of the dimensionless transformation for the nonlinear Schrödinger equation can be found here <a href=\"#4\">[4]</a>. The plotting functions originally came from here <a href=\"#5\">[5]</a>.\n",
    "\n",
    "## References\n",
    "\n",
    "<div id=\"1\">[1] Wikimedia Foundation. (2024, November 28). Finite difference method. Wikipedia. https://en.wikipedia.org/wiki Finite_difference_method</div>\n",
    "<div id=\"2\">[2] Wikimedia Foundation. (2024, November 21). Nonlinear Schrödinger equation. Wikipedia. https://en.wikipedia.org/wiki/Nonlinear_Schr%C3%B6dinger_equation</div>\n",
    "<div id=\"3\">[3] Keller, U. (2023). Ultrafast lasers: A comprehensive introduction to fundamental principles with practical applications. Springer International Publishing.</div>\n",
    "<div id=\"4\">[4] Felice, D. (2016, December 1). A Study of a Nonlinear Schrödinger Equation for Optical Fibers. arxiv. https://arxiv.org/pdf/1612.00358</div>\n",
    "<div id=\"5\">[5] Krarup, O. (n.d.). OLEKRARUP123/NLSE-vector-solver: Code for modelling the nonlinear Schrödinger equation for optical fiber pulse propagation. GitHub. https://github.com/OleKrarup123/NLSE-vector-solver</div>"
   ]
  },
  {
   "cell_type": "markdown",
   "metadata": {},
   "source": [
    "## Importing the modules"
   ]
  },
  {
   "cell_type": "code",
   "execution_count": 1,
   "metadata": {
    "tags": []
   },
   "outputs": [],
   "source": [
    "from libraries import *\n",
    "from variables import *\n",
    "from functions import *\n",
    "from classes import *"
   ]
  },
  {
   "cell_type": "markdown",
   "metadata": {},
   "source": [
    "## Initialize class about simulation parameters"
   ]
  },
  {
   "cell_type": "code",
   "execution_count": 2,
   "metadata": {
    "tags": []
   },
   "outputs": [
    {
     "name": "stdout",
     "output_type": "stream",
     "text": [
      "Couldn't find program: 'false'\n"
     ]
    }
   ],
   "source": [
    "%%script false\n",
    "sim_config = SIM_config(N,Time_window,duration,wavelength0,theta,chirp)"
   ]
  },
  {
   "cell_type": "markdown",
   "metadata": {},
   "source": [
    "## Testing the defined functions"
   ]
  },
  {
   "cell_type": "code",
   "execution_count": 3,
   "metadata": {
    "tags": []
   },
   "outputs": [
    {
     "name": "stdout",
     "output_type": "stream",
     "text": [
      "Couldn't find program: 'false'\n"
     ]
    }
   ],
   "source": [
    "%%script false\n",
    "# Initialize Gaussian pulse in the time domain\n",
    "testPulse = GaussianPulseTime(sim_config.t,amplitude,sim_config.duration) / amplitude\n",
    "\n",
    "fig, ax1 = plt.subplots()\n",
    "ax2 = ax1.twinx()\n",
    "plt.title(\"Initial pulse\")\n",
    "ax1.plot(sim_config.t,getPower(testPulse)/np.max(getPower(testPulse)),'g-')\n",
    "ax2.plot(sim_config.t,abs(testPulse)/np.max(abs(testPulse)),'b-')\n",
    "ax1.set_xlabel(\"Time [arbitrary unit]\")\n",
    "ax1.set_ylabel(\"Power [arbitrary unit]\", color='g')\n",
    "ax2.set_ylabel(\"Amplitude [arbitrary unit]\", color='b')\n",
    "ax1.set_ylim(0,1)\n",
    "ax2.set_ylim(0,1)\n",
    "plt.xlim(-5*sim_config.duration,5*sim_config.duration)\n",
    "savePlot('initial pulse')\n",
    "plt.show()"
   ]
  },
  {
   "cell_type": "markdown",
   "metadata": {},
   "source": [
    "## Testing the defined spectrum functions"
   ]
  },
  {
   "cell_type": "code",
   "execution_count": 4,
   "metadata": {
    "tags": []
   },
   "outputs": [
    {
     "name": "stdout",
     "output_type": "stream",
     "text": [
      "Couldn't find program: 'false'\n"
     ]
    }
   ],
   "source": [
    "%%script false\n",
    "# Initialize Gaussian pulse in the frequency domain\n",
    "testSpectrumTheory = GaussianPulseFrequency(sim_config.f,sim_config.frequency0,amplitude,sim_config.duration)\n",
    "# Getting spectrum from pulse\n",
    "testSpectrum=getSpectrumFromPulse(sim_config.t,sim_config.f,testPulse)\n",
    "# Getting Gaussian spectrum\n",
    "testSpectrum_2=GaussianSpectrum(sim_config.t,sim_config.f,amplitude,1/(sim_config.duration))\n",
    "plt.figure()\n",
    "plt.title(\"Spectrum of initial pulse\")\n",
    "plt.plot(sim_config.f,getPower(testSpectrumTheory)/np.max(getPower(testSpectrumTheory)),label=\"Spectrum of the theory\")\n",
    "plt.plot(sim_config.f_rel,getPower(testSpectrum)/np.max(getPower(testSpectrum)),label=\"Spectrum of testPulse\")\n",
    "plt.plot(sim_config.f_rel,getPower(testSpectrum_2)/np.max(getPower(testSpectrum_2)),label=\"Spectrum generated with GaussianSpectrum\")\n",
    "plt.axis([-1 + sim_config.frequency0,1 + sim_config.frequency0,0,1])\n",
    "plt.xlabel(\"Frequency [arbitrary unit]\")\n",
    "plt.ylabel(\"Power spectral density [arbitrary unit]\")\n",
    "plt.legend()\n",
    "savePlot('spectrum of the initial pulse')\n",
    "plt.show()"
   ]
  },
  {
   "cell_type": "markdown",
   "metadata": {},
   "source": [
    "## Testing the FWHM function"
   ]
  },
  {
   "cell_type": "code",
   "execution_count": 5,
   "metadata": {},
   "outputs": [
    {
     "name": "stdout",
     "output_type": "stream",
     "text": [
      "Couldn't find program: 'false'\n"
     ]
    }
   ],
   "source": [
    "%%script false\n",
    "# Something is odd with the product of the pulse and the spectrum's FWHM\n",
    "FWHM_frequency=FWHM(sim_config.f,getPower(testSpectrum))\n",
    "FWHM_time=FWHM(sim_config.t,getPower(testPulse))\n",
    "product=FWHM_frequency*FWHM_time\n",
    "print(f\"The product of the pulse and the spectrum's FWHM is {product}\")\n",
    "print(f\"The dispersion length is {dispersion_length} m\")\n",
    "print(f\"The nonlinear length is {nonlinear_length} m\")"
   ]
  },
  {
   "cell_type": "markdown",
   "metadata": {},
   "source": [
    "## Initialize class about fiber"
   ]
  },
  {
   "cell_type": "code",
   "execution_count": 6,
   "metadata": {},
   "outputs": [
    {
     "name": "stdout",
     "output_type": "stream",
     "text": [
      "Couldn't find program: 'false'\n"
     ]
    }
   ],
   "source": [
    "%%script false\n",
    "fiber=Fiber_config(nsteps,Length,nonlinear_length,dispersion_length,alpha_dB_per_m)\n",
    "fiber=Fiber_config(nsteps,Length,nonlinear_length,dispersion_length,alpha_dB_per_km)"
   ]
  },
  {
   "cell_type": "markdown",
   "metadata": {},
   "source": [
    "# Run Simulation"
   ]
  },
  {
   "cell_type": "code",
   "execution_count": 7,
   "metadata": {},
   "outputs": [
    {
     "name": "stdout",
     "output_type": "stream",
     "text": [
      "Couldn't find program: 'false'\n"
     ]
    }
   ],
   "source": [
    "%%script false\n",
    "pulseMatrix, spectrumMatrix = Simulation(fiber,sim_config,testPulse,'EFORK3')\n",
    "testPulse0=np.copy(pulseMatrix[0,:])\n",
    "testSpectrum0=np.copy(spectrumMatrix[0,:])\n",
    "testPulseFinal=np.copy(pulseMatrix[-1,:])\n",
    "testSpectrumFinal=np.copy(spectrumMatrix[-1,:])"
   ]
  },
  {
   "cell_type": "markdown",
   "metadata": {},
   "source": [
    "## Initialize functions for plotting the results"
   ]
  },
  {
   "cell_type": "code",
   "execution_count": 8,
   "metadata": {},
   "outputs": [
    {
     "name": "stdout",
     "output_type": "stream",
     "text": [
      "Couldn't find program: 'false'\n"
     ]
    }
   ],
   "source": [
    "%%script false\n",
    "FWHM_time_final=FWHM(sim_config.t,getPower(testPulseFinal))\n",
    "FWHM_frequency_final=FWHM(sim_config.f_rel,getPower(testSpectrumFinal))\n",
    "print(\"FWHM_time_final\",FWHM_time_final)\n",
    "print(\"FWHM_frequency_final\",FWHM_frequency_final)\n",
    "plotFirstAndLastPulse(pulseMatrix,sim_config)\n",
    "plotPulseMatrix2D(pulseMatrix,fiber,sim_config)\n",
    "plotFirstAndLastSpectrum(spectrumMatrix,sim_config,FWHM_frequency_final)\n",
    "plotSpectrumMatrix2D(spectrumMatrix,fiber,sim_config,FWHM_frequency_final)\n",
    "plotSpectrogram(sim_config, pulseMatrix[0,:], 50, 2000, sim_config.time_step, label='initial')\n",
    "plotSpectrogram(sim_config, pulseMatrix[-1,:], 50, 2000, sim_config.time_step, label='final')"
   ]
  },
  {
   "cell_type": "markdown",
   "metadata": {},
   "source": [
    "## Fractional order between 0.1 and 1.0 - The time domain"
   ]
  },
  {
   "cell_type": "code",
   "execution_count": 9,
   "metadata": {},
   "outputs": [
    {
     "name": "stdout",
     "output_type": "stream",
     "text": [
      "Couldn't find program: 'false'\n"
     ]
    }
   ],
   "source": [
    "%%script false\n",
    "#EFORK3 N= 2**11; Time_window=2000; nsteps=2**10\n",
    "alphas = [1.0]\n",
    "t=sim_config.t\n",
    "plt.figure()\n",
    "testPulse = chirpedGaussianPulseTime(sim_config.t,amplitude,sim_config.duration, sim_config.chirp) / amplitude\n",
    "power = getPower(testPulse)\n",
    "maximum_power=np.max(power)\n",
    "plt.plot(t,power/maximum_power,label=\"Initial pulse\")\n",
    "myfile = open('results.txt', 'w')\n",
    "for element in alphas:\n",
    "    sim_config = SIM_config(N,Time_window,frequency0,wavelength0,element, chirp)\n",
    "    pulseMatrix, spectrumMatrix = Simulation(fiber,sim_config,testPulse,'EFORK3')\n",
    "    plt.plot(t,getPower(pulseMatrix[-1,:])/maximum_power,label=f\"Fractional order: {element}\")\n",
    "    testPulseFinal=np.copy(pulseMatrix[-1,:])\n",
    "    testSpectrumFinal=np.copy(spectrumMatrix[-1,:])\n",
    "    \n",
    "    FWHM_time_final=analyze_pulse_characteristics(sim_config.t, getPower(testPulseFinal), 0.5)\n",
    "    FWHM_frequency_final=analyze_pulse_characteristics(sim_config.f_rel,getPower(testSpectrumFinal), 0.5)\n",
    "    FW5percentM_time_final = analyze_pulse_characteristics(sim_config.t, getPower(testPulseFinal), 0.05)\n",
    "    FW5percentM_frequency_final=analyze_pulse_characteristics(sim_config.f_rel,getPower(testSpectrumFinal), 0.05)\n",
    "    \n",
    "    myfile.write(f\"{element},{FWHM_time_final},{FWHM_frequency_final},{FW5percentM_time_final},{FW5percentM_frequency_final}\\n\")\n",
    "myfile.close()\n",
    "plt.title(\"Fractional order between 0.5 and 1.0\")\n",
    "plt.axis([-10,10,0,1])\n",
    "plt.xlabel(\"Time [arbitrary unit]\")\n",
    "plt.ylabel(\"Power [arbitrary unit]\")\n",
    "#savePlot('Fractional order between 0.1 and 1.0')\n",
    "plt.legend(bbox_to_anchor=(1.05,0.3))\n",
    "plt.show()"
   ]
  },
  {
   "cell_type": "markdown",
   "metadata": {},
   "source": [
    "## Fractional order between 0.1 and 1.0 - The frequency domain"
   ]
  },
  {
   "cell_type": "code",
   "execution_count": 10,
   "metadata": {},
   "outputs": [
    {
     "name": "stdout",
     "output_type": "stream",
     "text": [
      "Couldn't find program: 'false'\n"
     ]
    }
   ],
   "source": [
    "%%script false\n",
    "#EFORK3 N= 2**11; Time_window=3000; nsteps=2**10\n",
    "alphas = [0.5, 0.6, 0.7, 0.8, 0.9, 1.0]\n",
    "plt.figure()\n",
    "testPulse = chirpedGaussianPulseTime(sim_config.t,amplitude,sim_config.duration, sim_config.chirp) / amplitude\n",
    "testSpectrum = getSpectrumFromPulse(sim_config.t,sim_config.f,testPulse)\n",
    "power = getPower(testSpectrum)\n",
    "maximum_power=np.max(power)\n",
    "plt.plot(sim_config.f,power/maximum_power,label=\"Initial pulse\")\n",
    "for element in alphas:\n",
    "    sim_config = SIM_config(N,Time_window,frequency0,wavelength0,element, chirp)\n",
    "    _, spectrumMatrix = Simulation(fiber,sim_config,testPulse,'EFORK3')\n",
    "    plt.plot(sim_config.f,getPower(spectrumMatrix[-1,:])/maximum_power,label=f\"Fractional order: {element}\")\n",
    "plt.title(\"Fractional order between 0.5 and 1.0\")\n",
    "plt.axis([-0.5,0.5,0,1])\n",
    "plt.xlabel(\"Frequency [arbitrary unit]\")\n",
    "plt.ylabel(\"Spectral Power [arbitrary unit]\")\n",
    "#savePlot('Fractional order between 0.1 and 1.0')\n",
    "plt.legend(bbox_to_anchor=(1.05,0.3))\n",
    "plt.show()"
   ]
  },
  {
   "cell_type": "markdown",
   "metadata": {},
   "source": [
    "## Checking how reducing the number of steps affects pulse accuracy"
   ]
  },
  {
   "cell_type": "code",
   "execution_count": 11,
   "metadata": {},
   "outputs": [
    {
     "name": "stdout",
     "output_type": "stream",
     "text": [
      "Couldn't find program: 'false'\n"
     ]
    }
   ],
   "source": [
    "%%script false\n",
    "\n",
    "#First, make a copy of the pulse computed with the original fiber settings and nsteps\n",
    "baselinePulse = np.copy(testPulseFinal) # reference with 2**14 steps \n",
    "\n",
    "#Make array of the number of steps\n",
    "#nsteps_list=np.logspace(0,np.log10(fiber.nsteps),9)  \n",
    "nsteps_list=[2**13, 2**14, 2**15]\n",
    "      \n",
    "#Pre-define arrays for holding errors\n",
    "err_list=np.zeros_like(nsteps_list)*1.0\n",
    "\n",
    "#Start figure and plot the pulse with the large number of steps\n",
    "plt.figure()\n",
    "plt.plot(sim_config.t,getPower(baselinePulse)/np.max(getPower(baselinePulse)),label=f\"Baseline for nsteps = {fiber.nsteps}\")\n",
    "\n",
    "#For each iteration, define a new fiber with a different number of steps but the same physical properties\n",
    "for i in range(0,len(nsteps_list)):\n",
    "  nsteps_i=int(nsteps_list[i])\n",
    "  fiber_i=Fiber_config(nsteps_i,Length,nonlinear_length,dispersion_length,alpha_dB_per_km)\n",
    "  \n",
    "  #Run the simulation and plot the computed pulse\n",
    "  pulseMatrix_i,_= Simulation(fiber_i,sim_config,testPulse,'EFORK3')\n",
    "  \n",
    "  pulse_i=pulseMatrix_i[-1,:]\n",
    "  \n",
    "  plt.plot(sim_config.t,getPower(pulse_i)/np.max(getPower(pulse_i)),label=f\"Pulse for nsteps = {nsteps_i}\")\n",
    "  \n",
    "  #Compute and store errors\n",
    "  err = getEnergy(sim_config.t,(pulse_i-baselinePulse))/getEnergy(sim_config.t, baselinePulse)*100\n",
    "  err_list[i]=err\n",
    "\n",
    "plt.xlabel(\"Time [a.u.]\")\n",
    "plt.ylabel(\"Power [a.u.]\")\n",
    "plt.title(\"Impulse solutions for different nsteps with EFORK3 method\")\n",
    "plt.legend(bbox_to_anchor=(1.05,0.3))\n",
    "plt.show()"
   ]
  },
  {
   "cell_type": "markdown",
   "metadata": {},
   "source": [
    "## Convergence of the solution"
   ]
  },
  {
   "cell_type": "code",
   "execution_count": 12,
   "metadata": {},
   "outputs": [
    {
     "name": "stdout",
     "output_type": "stream",
     "text": [
      "Couldn't find program: 'false'\n"
     ]
    }
   ],
   "source": [
    "%%script false\n",
    "\n",
    "x=np.log10(nsteps_list)\n",
    "y=np.log10(err_list/np.max(err_list))\n",
    "\n",
    "model = np.polyfit(x, y, 1)\n",
    "print(\"Model parameters [a,b]=\",model)\n",
    "y_model=np.poly1d(model)\n",
    "plt.figure()\n",
    "plt.plot(x,y_model(x),'r-',label=f\"$err(1 step)*nsteps^{  {np.round(model[0],3)}}$\")\n",
    "plt.plot(x,y,'.')\n",
    "plt.xlabel('log10(nsteps)')\n",
    "plt.ylabel('log10(err/err_max)')\n",
    "plt.title(\"Converfence of the solution with EFORK3 method\")\n",
    "plt.legend()\n",
    "plt.show()"
   ]
  },
  {
   "cell_type": "markdown",
   "metadata": {},
   "source": [
    "## Chirped Gaussian pulse for GVD term only"
   ]
  },
  {
   "cell_type": "code",
   "execution_count": 13,
   "metadata": {},
   "outputs": [
    {
     "name": "stdout",
     "output_type": "stream",
     "text": [
      "Couldn't find program: 'false'\n"
     ]
    }
   ],
   "source": [
    "%%script false\n",
    "#EFORK3 N= 2**10; Time_window=1500; nsteps=2**15\n",
    "chirp_parameters = [-2, 0, 2]\n",
    "normalized_zlocs_array = np.linspace(0,fiber.length,fiber.nsteps) / fiber.dispersion_length\n",
    "plt.figure()\n",
    "for m in chirp_parameters:\n",
    "    sim_config = SIM_config(N,Time_window,duration,wavelength0,theta,m)\n",
    "    fiber = Fiber_config(nsteps,Length,nonlinear_length,dispersion_length,alpha_dB_per_km)\n",
    "    testPulse = chirpedGaussianPulseTime(sim_config.t,amplitude,sim_config.duration,sim_config.chirp) / amplitude\n",
    "    pulseMatrix, _ = Simulation(fiber,sim_config,testPulse,'EFORK3')\n",
    "    testPulse0 = np.copy(pulseMatrix[0,:])\n",
    "    FWHM_testPulse0 = analyze_pulse_characteristics(sim_config.t,getPower(testPulse0)/np.max(getPower(testPulse0)),0.5)\n",
    "    broadening_factor_simulation = np.zeros(fiber.nsteps)\n",
    "    for n in range(fiber.nsteps):\n",
    "        testPulse_index = np.copy(pulseMatrix[n,:])\n",
    "        FWHM_testPulse_index = analyze_pulse_characteristics(sim_config.t,getPower(testPulse_index)/np.max(getPower(testPulse_index)),0.5)\n",
    "        broadening_factor_simulation[n] = FWHM_testPulse_index / FWHM_testPulse0\n",
    "    plt.plot(normalized_zlocs_array,broadening_factor_simulation,'.',label=f\"Chirp parameter = {m}\")\n",
    "plt.xlabel('z/L_D')\n",
    "plt.ylabel('Broadening factor')\n",
    "plt.title(\"Broadening factor vs. normalized propagation distance for different chirp parameters\")\n",
    "#plt.axis([0,0.05,0,5])\n",
    "plt.legend()\n",
    "plt.show()"
   ]
  },
  {
   "cell_type": "markdown",
   "metadata": {},
   "source": [
    "## Chirped Gaussian pulse for SPM term only"
   ]
  },
  {
   "cell_type": "code",
   "execution_count": 14,
   "metadata": {},
   "outputs": [
    {
     "name": "stdout",
     "output_type": "stream",
     "text": [
      "Couldn't find program: 'false'\n"
     ]
    }
   ],
   "source": [
    "%%script false\n",
    "#EFORK3 N= 2**10; Time_window=5000; nsteps=2**16\n",
    "chirp_parameters = [-20, -10, 0, 10]\n",
    "fiber_length = 4.5 * np.pi * nonlinear_length\n",
    "plt.figure()\n",
    "for m in chirp_parameters:\n",
    "    sim_config = SIM_config(N,Time_window,duration,wavelength0,theta,m)\n",
    "    fiber = Fiber_config(nsteps,fiber_length,nonlinear_length,dispersion_length,0)\n",
    "    testPulse = chirpedGaussianPulseTime(sim_config.t,amplitude,sim_config.duration,sim_config.chirp) / amplitude\n",
    "    _, spectrumMatrix = Simulation(fiber,sim_config,testPulse,'Euler')\n",
    "    power = getPower(spectrumMatrix[-1,:])\n",
    "    maximum_power=np.max(power)\n",
    "    plt.plot(sim_config.f,power/maximum_power,'-',label=f\"Chirp parameter = {m}\")\n",
    "plt.xlabel(\"Frequency [arbitrary unit]\")\n",
    "plt.ylabel(\"Power spectral density [arbitrary unit]\")\n",
    "plt.title(\"Power spectral density vs. frequency for different chirp parameters\")\n",
    "plt.axis([-2,2,0,1])\n",
    "plt.legend()\n",
    "plt.show()"
   ]
  },
  {
   "cell_type": "markdown",
   "metadata": {},
   "source": [
    "## Initialize classes"
   ]
  },
  {
   "cell_type": "code",
   "execution_count": 15,
   "metadata": {},
   "outputs": [],
   "source": [
    "#%%script false\n",
    "sim_config = SIM_config2(N,Time_window,duration,wavelength0,theta,chirp)\n",
    "fiber = Fiber_config2(nsteps,Length,nonlinear_length,dispersion_length,alpha_dB_per_m,beta2,gammaconstant)"
   ]
  },
  {
   "cell_type": "markdown",
   "metadata": {},
   "source": [
    "## Some safety stuff"
   ]
  },
  {
   "cell_type": "code",
   "execution_count": 16,
   "metadata": {},
   "outputs": [
    {
     "name": "stdout",
     "output_type": "stream",
     "text": [
      "Stable dt value:  9.794300558772306e-17\n",
      "Stable dz value:  1.273239544735163e-08\n",
      "Crytical power condition is not satisfied for self-focusing!\n",
      "Clean pulse propagation or compression is achieved!\n",
      "Kerr + SPM regime!\n"
     ]
    }
   ],
   "source": [
    "#%%script false\n",
    "# Compute stability step sizes\n",
    "omega_max = np.max(sim_config.omega)\n",
    "dz_est = estimate_stable_dz(fiber.gammaconstant, peak_power, wavelength0, n0, fiber.beta2, omega_max)\n",
    "dt_est = estimate_grid_resolution(duration, omega_max)\n",
    "print('Stable dt value: ',dt_est)\n",
    "print('Stable dz value: ',dz_est)\n",
    "\n",
    "# Calculate critical peak power\n",
    "P_crit = wavelength0**2 / (2*np.pi*n0*nonlinear_refractive_index)\n",
    "P_0 = peak_power\n",
    "if P_0 < P_crit:\n",
    "    print(f\"Crytical power condition is not satisfied for self-focusing!\")\n",
    "else:\n",
    "    raise ValueError(f'Crytical power condition is satisfied for self focusing!')\n",
    "\n",
    "# Calculate nonlinear phase shift limit\n",
    "phi_nl = fiber.gammaconstant*peak_power*fiber.length\n",
    "if phi_nl < 2*np.pi:\n",
    "    print(f\"Clean pulse propagation or compression is achieved!\")\n",
    "else:\n",
    "    raise ValueError('Significant SPM and pulse distortion!')\n",
    "# Intensity and physical effect regimes\n",
    "if peak_intensity <= 1e15:\n",
    "    print(\"Linear propagation regime!\")\n",
    "elif (peak_intensity > 1e15 and  peak_intensity <= 1e17):\n",
    "    print(\"Kerr + SPM regime!\")\n",
    "elif (peak_intensity > 1e17 and  peak_intensity <= 3e17):\n",
    "    raise ValueError('Self-focusing threshold regime!')\n",
    "elif (peak_intensity >= 1e18):\n",
    "    raise ValueError('Ionization/damage regime!')\n",
    "\n",
    "# You want N ≥ 1 for at least a fundamental soliton.\n",
    "N_soliton = np.sqrt(fiber.gammaconstant * peak_power * duration**2 / np.abs(fiber.beta2))\n",
    "#print(\"Soliton number:\", N_soliton)"
   ]
  },
  {
   "cell_type": "markdown",
   "metadata": {},
   "source": [
    "## Fractional order between 0.9 and 1.0 - The time domain with FSSM"
   ]
  },
  {
   "cell_type": "code",
   "execution_count": 17,
   "metadata": {},
   "outputs": [
    {
     "name": "stdout",
     "output_type": "stream",
     "text": [
      "Couldn't find program: 'false'\n"
     ]
    }
   ],
   "source": [
    "%%script false\n",
    "#Length=1e-4\n",
    "alphas = [0.9, 0.91, 0.92, 0.93, 0.94, 0.95, 0.96, 0.97, 0.98, 0.99, 1.0]\n",
    "plt.figure()\n",
    "#testPulse = GaussianPulseTime(sim_config.t,amplitude,sim_config.duration)\n",
    "testPulse = chirpedGaussianPulseTime(sim_config.t,amplitude,sim_config.duration, sim_config.chirp)\n",
    "power = getPower(testPulse)\n",
    "maximum_power=np.max(power)\n",
    "plt.plot(sim_config.t,power/maximum_power,label=\"Initial pulse\")\n",
    "myfile = open('results.txt', 'w')\n",
    "for element in alphas:\n",
    "    sim_config = SIM_config2(N,Time_window,frequency0,wavelength0,element, chirp)\n",
    "    A_history, A_spectrum_history, PhotonNumber_values = FSSM(fiber,sim_config,testPulse)\n",
    "    maximum_PhotonNumber = np.max(PhotonNumber_values)\n",
    "    last_normalized_PhotonNumber = PhotonNumber_values[-1] / maximum_PhotonNumber\n",
    "    plt.plot(sim_config.t,getPower(A_history[-1])/maximum_power,label=f\"Fractional order: {element}\")\n",
    "    testPulseFinal=np.copy(A_history[-1])\n",
    "    testSpectrumFinal=np.copy(A_spectrum_history[-1])\n",
    "    \n",
    "    FWHM_time_final=analyze_pulse_characteristics(sim_config.t, getPower(testPulseFinal), 0.5)\n",
    "    FWHM_omega_final=analyze_pulse_characteristics(sim_config.omega,getPower(testSpectrumFinal), 0.5)\n",
    "    FW5percentM_time_final = analyze_pulse_characteristics(sim_config.t, getPower(testPulseFinal), 0.05)\n",
    "    FW5percentM_omega_final=analyze_pulse_characteristics(sim_config.omega,getPower(testSpectrumFinal), 0.05)\n",
    "    \n",
    "    myfile.write(f\"{element},{FWHM_time_final},{FWHM_omega_final},{FW5percentM_time_final},{FW5percentM_omega_final}, {last_normalized_PhotonNumber}\\n\")\n",
    "myfile.close()\n",
    "plt.title(\"Fractional order between 0.9 and 1.0\")\n",
    "#plt.axis([-5*sim_config.duration,5*sim_config.duration,0,1])\n",
    "plt.xlabel(\"Time [s]\")\n",
    "plt.ylabel(\"Normalized power [arbitrary unit]\")\n",
    "#plt.legend(bbox_to_anchor=(1.05,0.3))\n",
    "plt.legend()\n",
    "plt.show()"
   ]
  },
  {
   "cell_type": "markdown",
   "metadata": {},
   "source": [
    "## Fractional order between 0.9 and 1.0 - The frequency domain with FSSM"
   ]
  },
  {
   "cell_type": "code",
   "execution_count": 18,
   "metadata": {},
   "outputs": [
    {
     "name": "stdout",
     "output_type": "stream",
     "text": [
      "Couldn't find program: 'false'\n"
     ]
    }
   ],
   "source": [
    "%%script false\n",
    "#Length=1e-4\n",
    "alphas = [0.9, 0.91, 0.92, 0.93, 0.94, 0.95, 0.96, 0.97, 0.98, 0.99, 1.0]\n",
    "plt.figure()\n",
    "#testPulse = GaussianPulseTime(sim_config.t,amplitude,sim_config.duration)\n",
    "testPulse = chirpedGaussianPulseTime(sim_config.t,amplitude,sim_config.duration, sim_config.chirp)\n",
    "testSpectrum = getSpectrumFromPulse(sim_config.t,testPulse)\n",
    "power = getPower(testSpectrum)\n",
    "maximum_power=np.max(power)\n",
    "plt.plot(sim_config.omega,power/maximum_power,label=\"Initial pulse\")\n",
    "for element in alphas:\n",
    "    sim_config = SIM_config2(N,Time_window,frequency0,wavelength0,element, chirp)\n",
    "    _, A_spectrum_history, _ = FSSM(fiber,sim_config,testPulse)\n",
    "    plt.plot(sim_config.omega,getPower(A_spectrum_history[-1])/maximum_power,label=f\"Fractional order: {element}\")\n",
    "plt.title(\"Fractional order between 0.9 and 1.0\")\n",
    "plt.xlabel(\"Angular Frequency [rad/s]\")\n",
    "plt.ylabel(\"Normalized power spectral density [arbitrary unit]\")\n",
    "#plt.axis([-0.1e16,0.1e16,0,1])\n",
    "#savePlot('Fractional order between 0.1 and 1.0')\n",
    "#plt.legend(bbox_to_anchor=(1.05,0.3))\n",
    "plt.legend()\n",
    "plt.show()"
   ]
  },
  {
   "cell_type": "markdown",
   "metadata": {},
   "source": [
    "## Photon number conservation with FSSM"
   ]
  },
  {
   "cell_type": "code",
   "execution_count": 19,
   "metadata": {},
   "outputs": [
    {
     "name": "stdout",
     "output_type": "stream",
     "text": [
      "Couldn't find program: 'false'\n"
     ]
    }
   ],
   "source": [
    "%%script false\n",
    "#Length=1e-4\n",
    "alphas = [0.9, 0.91, 0.92, 0.93, 0.94, 0.95, 0.96, 0.97, 0.98, 0.99, 1.0]\n",
    "plt.figure()\n",
    "#testPulse = GaussianPulseTime(sim_config.t,amplitude,sim_config.duration)\n",
    "testPulse = chirpedGaussianPulseTime(sim_config.t,amplitude,sim_config.duration, sim_config.chirp)\n",
    "for element in alphas:\n",
    "    sim_config = SIM_config2(N,Time_window,frequency0,wavelength0,element, chirp)\n",
    "    _, _, PhotonNumber_values = FSSM(fiber,sim_config,testPulse)\n",
    "    plt.plot(fiber.zlocs_array,PhotonNumber_values,label=f\"Fractional order: {element}\")\n",
    "    #print((PhotonNumber_values[0]-PhotonNumber_values[-1])/PhotonNumber_values[0])\n",
    "#savePlot('Fractional order between 0.9 and 1.0')\n",
    "plt.xlabel('Propagation distance [m]')\n",
    "plt.ylabel('Photon number [count]')\n",
    "plt.title('Photon number conservation')\n",
    "#plt.legend(bbox_to_anchor=(1.05,0.3))\n",
    "plt.legend()\n",
    "plt.show()"
   ]
  },
  {
   "cell_type": "markdown",
   "metadata": {},
   "source": [
    "## Chirped Gaussian pulse for GVD term only with MFEMIP"
   ]
  },
  {
   "cell_type": "code",
   "execution_count": 20,
   "metadata": {},
   "outputs": [
    {
     "name": "stdout",
     "output_type": "stream",
     "text": [
      "Couldn't find program: 'false'\n"
     ]
    }
   ],
   "source": [
    "%%script false\n",
    "#Length=1e-4\n",
    "chirp_parameters = [-2, 0, 2]\n",
    "normalized_zlocs_array = fiber.zlocs_array / fiber.dispersion_length\n",
    "plt.figure()\n",
    "for m in chirp_parameters:\n",
    "    sim_config = SIM_config2(N,Time_window,duration,wavelength0,theta,m)\n",
    "    fiber = Fiber_config2(nsteps,Length,nonlinear_length,dispersion_length,0,beta2,0)\n",
    "    testPulse = chirpedGaussianPulseTime(sim_config.t,amplitude,sim_config.duration,sim_config.chirp)\n",
    "    A_history, _, _ = MFEMIP(fiber,sim_config,testPulse)\n",
    "    testPulse0 = np.copy(A_history[0])\n",
    "    FWHM_testPulse0 = analyze_pulse_characteristics(sim_config.t,getPower(testPulse0)/np.max(getPower(testPulse0)),0.5)\n",
    "    broadening_factor_simulation = np.zeros(fiber.nsteps)\n",
    "    for n in range(fiber.nsteps):\n",
    "        testPulse_index = np.copy(A_history[n])\n",
    "        FWHM_testPulse_index = analyze_pulse_characteristics(sim_config.t,getPower(testPulse_index)/np.max(getPower(testPulse_index)),0.5)\n",
    "        broadening_factor_simulation[n] = FWHM_testPulse_index / FWHM_testPulse0\n",
    "    plt.plot(normalized_zlocs_array,broadening_factor_simulation,'.',label=f\"Chirp parameter = {m}\")\n",
    "plt.xlabel('z/L_D')\n",
    "plt.ylabel('Broadening factor')\n",
    "plt.title(\"Broadening factor vs. normalized propagation distance for different chirp parameters\")\n",
    "plt.legend()\n",
    "plt.show()"
   ]
  },
  {
   "cell_type": "markdown",
   "metadata": {},
   "source": [
    "## Chirped Gaussian pulse for SPM term only with FL1_direct_NL"
   ]
  },
  {
   "cell_type": "code",
   "execution_count": 27,
   "metadata": {},
   "outputs": [
    {
     "name": "stdout",
     "output_type": "stream",
     "text": [
      "1 % ready\n",
      "2 % ready\n",
      "3 % ready\n",
      "4 % ready\n",
      "5 % ready\n",
      "6 % ready\n",
      "7 % ready\n",
      "8 % ready\n",
      "9 % ready\n",
      "10 % ready\n",
      "11 % ready\n",
      "12 % ready\n",
      "13 % ready\n",
      "14 % ready\n",
      "15 % ready\n",
      "16 % ready\n",
      "17 % ready\n",
      "18 % ready\n",
      "19 % ready\n",
      "20 % ready\n",
      "21 % ready\n",
      "22 % ready\n",
      "23 % ready\n",
      "24 % ready\n",
      "25 % ready\n",
      "26 % ready\n",
      "27 % ready\n",
      "28 % ready\n",
      "29 % ready\n",
      "30 % ready\n",
      "31 % ready\n",
      "32 % ready\n",
      "33 % ready\n",
      "34 % ready\n",
      "35 % ready\n",
      "36 % ready\n",
      "37 % ready\n",
      "38 % ready\n",
      "39 % ready\n",
      "40 % ready\n",
      "41 % ready\n",
      "42 % ready\n",
      "43 % ready\n",
      "44 % ready\n",
      "45 % ready\n",
      "46 % ready\n",
      "47 % ready\n",
      "48 % ready\n",
      "49 % ready\n",
      "50 % ready\n",
      "51 % ready\n",
      "52 % ready\n",
      "53 % ready\n",
      "54 % ready\n",
      "55 % ready\n",
      "56 % ready\n",
      "57 % ready\n",
      "58 % ready\n",
      "59 % ready\n",
      "60 % ready\n",
      "61 % ready\n",
      "62 % ready\n",
      "63 % ready\n",
      "64 % ready\n",
      "65 % ready\n",
      "66 % ready\n",
      "67 % ready\n",
      "68 % ready\n",
      "69 % ready\n",
      "70 % ready\n",
      "71 % ready\n",
      "72 % ready\n",
      "73 % ready\n",
      "74 % ready\n",
      "75 % ready\n",
      "76 % ready\n",
      "77 % ready\n",
      "78 % ready\n",
      "79 % ready\n",
      "80 % ready\n",
      "81 % ready\n",
      "82 % ready\n",
      "83 % ready\n",
      "84 % ready\n",
      "85 % ready\n",
      "86 % ready\n",
      "87 % ready\n",
      "88 % ready\n",
      "89 % ready\n",
      "90 % ready\n",
      "91 % ready\n",
      "92 % ready\n",
      "93 % ready\n",
      "94 % ready\n",
      "95 % ready\n",
      "96 % ready\n",
      "97 % ready\n",
      "98 % ready\n",
      "99 % ready\n",
      "100 % ready\n"
     ]
    },
    {
     "data": {
      "image/png": "[encoded data removed]",
      "text/plain": [
       "<Figure size 640x480 with 1 Axes>"
      ]
     },
     "metadata": {},
     "output_type": "display_data"
    }
   ],
   "source": [
    "#%%script false\n",
    "chirp_parameters = [10]\n",
    "fiber_length = 4.5 * np.pi * nonlinear_length\n",
    "plt.figure()\n",
    "for m in chirp_parameters:\n",
    "    sim_config = SIM_config2(N,Time_window,duration,wavelength0,theta,m)\n",
    "    fiber = Fiber_config2(nsteps,fiber_length,nonlinear_length,dispersion_length,0,0,gammaconstant)\n",
    "    testPulse = chirpedGaussianPulseTime(sim_config.t,amplitude,sim_config.duration,m)\n",
    "    SSFM_A_spectrum_history, FEM1_A_spectrum_history, FEM2_A_spectrum_history, FEM3_A_spectrum_history = FL1_direct_NL(fiber,sim_config,testPulse)\n",
    "    power1 = getPower(FEM1_A_spectrum_history[-1])\n",
    "    maximum_power1=np.max(power1)\n",
    "    power2 = getPower(SSFM_A_spectrum_history[-1])\n",
    "    maximum_power2=np.max(power2)\n",
    "    power3 = getPower(FEM2_A_spectrum_history[-1])\n",
    "    maximum_power3=np.max(power3)\n",
    "    power4 = getPower(FEM3_A_spectrum_history[-1])\n",
    "    maximum_power4=np.max(power4)\n",
    "    #plt.plot(sim_config.f / sim_config.f0,power1/maximum_power1,'-',label=f\"Chirp parameter = {m}, FEM1\")\n",
    "    plt.plot(sim_config.f / sim_config.f0,power2/maximum_power2,'--',label=f\"Chirp parameter = {m}, SSFM\")\n",
    "    #plt.plot(sim_config.f / sim_config.f0,power3/maximum_power3,'-',label=f\"Chirp parameter = {m}, FEM2\")\n",
    "    plt.plot(sim_config.f / sim_config.f0,power4/maximum_power4,'-',label=f\"Chirp parameter = {m}, MFEM\")\n",
    "plt.xlabel(\"Normalized Frequency\")\n",
    "plt.ylabel(\"Normalized Power spectral density [arbitrary unit]\")\n",
    "plt.title(\"Normalized Power spectral density vs. normalized frequency\")\n",
    "plt.axis([-4,4,0,1])\n",
    "plt.legend()\n",
    "plt.show()"
   ]
  },
  {
   "cell_type": "markdown",
   "metadata": {},
   "source": [
    "## Fractional order between 0.9 and 1.0 - another study in the frequency domain with FSSM"
   ]
  },
  {
   "cell_type": "code",
   "execution_count": 22,
   "metadata": {},
   "outputs": [
    {
     "name": "stdout",
     "output_type": "stream",
     "text": [
      "Couldn't find program: 'false'\n"
     ]
    }
   ],
   "source": [
    "%%script false\n",
    "alphas = [0.9, 0.91, 0.92, 0.93, 0.94, 0.95, 0.96, 0.97, 0.98, 0.99, 1.0]\n",
    "fiber_length = 4.5 * np.pi * nonlinear_length\n",
    "plt.figure()\n",
    "myfile = open('results2.txt', 'w')\n",
    "for m in alphas:\n",
    "    sim_config = SIM_config2(N,Time_window,duration,wavelength0,m,chirp)\n",
    "    fiber = Fiber_config2(nsteps,fiber_length,nonlinear_length,dispersion_length,0,0,gammaconstant)\n",
    "    testPulse = chirpedGaussianPulseTime(sim_config.t,amplitude,sim_config.duration,sim_config.chirp)\n",
    "    _, A_spectrum_history, _ = FSSM(fiber,sim_config,testPulse)\n",
    "    power = getPower(A_spectrum_history[-1])\n",
    "    maximum_power=np.max(power)\n",
    "    FWHM_omega_final=analyze_pulse_characteristics(sim_config.omega,power, 0.5)\n",
    "    FW5percentM_omega_final=analyze_pulse_characteristics(sim_config.omega,power, 0.05)\n",
    "    myfile.write(f\"{m},{FWHM_omega_final},{FW5percentM_omega_final}\\n\")\n",
    "    plt.plot(sim_config.f / sim_config.f0,power/maximum_power,'-',label=f\"Fractional order: {m}\")\n",
    "myfile.close()\n",
    "plt.xlabel(\"Normalized frequency [arbitrary unit]\")\n",
    "plt.ylabel(\"Normalized power spectral density [arbitrary unit]\")\n",
    "plt.title(\"Normalized power spectral density vs. normalized frequency for different fractional order\")\n",
    "plt.axis([-7,7,0,1])\n",
    "plt.legend()\n",
    "plt.show()"
   ]
  },
  {
   "cell_type": "markdown",
   "metadata": {},
   "source": [
    "## Fractional order between 0.9 and 1.0 - another study in the frequency domain with FSSM"
   ]
  },
  {
   "cell_type": "code",
   "execution_count": 23,
   "metadata": {},
   "outputs": [
    {
     "name": "stdout",
     "output_type": "stream",
     "text": [
      "Couldn't find program: 'false'\n"
     ]
    }
   ],
   "source": [
    "%%script false\n",
    "chirp_values = np.arange(-150, 0, 5)\n",
    "FWHM_omega_final_values = []\n",
    "FW5percentM_omega_final_values = []\n",
    "fiber_length = 4.5 * np.pi * nonlinear_length\n",
    "myfile = open('results3.txt', 'w')\n",
    "for m in chirp_values:\n",
    "    sim_config = SIM_config2(N,Time_window,duration,wavelength0,theta,m)\n",
    "    fiber = Fiber_config2(nsteps,fiber_length,nonlinear_length,dispersion_length,0,0,gammaconstant)\n",
    "    testPulse = chirpedGaussianPulseTime(sim_config.t,amplitude,sim_config.duration,m)\n",
    "    _, A_spectrum_history, _ = FSSM(fiber,sim_config,testPulse)\n",
    "    power = getPower(A_spectrum_history[-1])\n",
    "    maximum_power=np.max(power)\n",
    "    FWHM_omega_final=analyze_pulse_characteristics(sim_config.omega,power, 0.5)\n",
    "    FW5percentM_omega_final=analyze_pulse_characteristics(sim_config.omega,power, 0.05)\n",
    "    FWHM_omega_final_values.append(FWHM_omega_final)\n",
    "    FW5percentM_omega_final_values.append(FW5percentM_omega_final)\n",
    "    myfile.write(f\"{m},{FWHM_omega_final},{FW5percentM_omega_final}\\n\")\n",
    "myfile.close()\n",
    "fig, ax1 = plt.subplots()\n",
    "ax2 = ax1.twinx()\n",
    "plt.title(f\"Optimal chirp for fractional order: {theta}\")\n",
    "ax1.plot(chirp_values,FW5percentM_omega_final_values,'g-')\n",
    "ax2.plot(chirp_values,FWHM_omega_final_values,'b-')\n",
    "ax1.set_xlabel(\"Chirp parameter\")\n",
    "ax1.set_ylabel(\"5% power bandwidth [rad/s]\", color='g')\n",
    "ax2.set_ylabel(\"50% power bandwidth [rad/s]\", color='b')\n",
    "plt.show()"
   ]
  },
  {
   "cell_type": "markdown",
   "metadata": {},
   "source": [
    "## Checking how reducing the number of steps affects pulse accuracy"
   ]
  },
  {
   "cell_type": "code",
   "execution_count": 24,
   "metadata": {},
   "outputs": [
    {
     "ename": "DeprecationWarning",
     "evalue": "`trapz` is deprecated. Use `trapezoid` instead, or one of the numerical integration functions in `scipy.integrate`.",
     "output_type": "error",
     "traceback": [
      "\u001b[31m---------------------------------------------------------------------------\u001b[39m",
      "\u001b[31mDeprecationWarning\u001b[39m                        Traceback (most recent call last)",
      "\u001b[36mCell\u001b[39m\u001b[36m \u001b[39m\u001b[32mIn[24]\u001b[39m\u001b[32m, line 5\u001b[39m\n\u001b[32m      1\u001b[39m \u001b[38;5;66;03m#%%script false\u001b[39;00m\n\u001b[32m      2\u001b[39m \n\u001b[32m      3\u001b[39m \u001b[38;5;66;03m#First, make a copy of the pulse computed with the original fiber settings and nsteps\u001b[39;00m\n\u001b[32m      4\u001b[39m testPulse = chirpedGaussianPulseTime(sim_config.t,amplitude,sim_config.duration,sim_config.chirp)\n\u001b[32m----> \u001b[39m\u001b[32m5\u001b[39m A_history, _, _ = \u001b[43mFSSM\u001b[49m\u001b[43m(\u001b[49m\u001b[43mfiber\u001b[49m\u001b[43m,\u001b[49m\u001b[43msim_config\u001b[49m\u001b[43m,\u001b[49m\u001b[43mtestPulse\u001b[49m\u001b[43m)\u001b[49m\n\u001b[32m      6\u001b[39m baselinePulse = A_history[-\u001b[32m1\u001b[39m] \u001b[38;5;66;03m# reference with 2**10 steps \u001b[39;00m\n\u001b[32m      8\u001b[39m \u001b[38;5;66;03m#Make array of the number of steps\u001b[39;00m\n\u001b[32m      9\u001b[39m \u001b[38;5;66;03m#nsteps_list=np.logspace(0,np.log10(fiber.nsteps),9)  \u001b[39;00m\n",
      "\u001b[36mFile \u001b[39m\u001b[32mc:\\Users\\Balazs\\Desktop\\forráskódok\\Fractional-Schrodinger-equation\\functions.py:487\u001b[39m, in \u001b[36mFSSM\u001b[39m\u001b[34m(fiber, sim, pulse)\u001b[39m\n\u001b[32m    485\u001b[39m A = pulse.copy()\n\u001b[32m    486\u001b[39m A_spectrum = getSpectrumFromPulse(sim.t,A)\n\u001b[32m--> \u001b[39m\u001b[32m487\u001b[39m A_PhotonNumber = \u001b[43mgetPhotonNumber\u001b[49m\u001b[43m(\u001b[49m\u001b[43mA\u001b[49m\u001b[43m,\u001b[49m\u001b[43msim\u001b[49m\u001b[43m)\u001b[49m\n\u001b[32m    488\u001b[39m A_history = [A]\n\u001b[32m    489\u001b[39m A_spectrum_history = [A_spectrum]\n",
      "\u001b[36mFile \u001b[39m\u001b[32mc:\\Users\\Balazs\\Desktop\\forráskódok\\Fractional-Schrodinger-equation\\functions.py:44\u001b[39m, in \u001b[36mgetPhotonNumber\u001b[39m\u001b[34m(A, sim)\u001b[39m\n\u001b[32m     40\u001b[39m photon_energy = hbar * (sim.omega + \u001b[32m2\u001b[39m*pi*speed_of_light/wavelength0)\n\u001b[32m     42\u001b[39m I_over_hw = I / photon_energy \n\u001b[32m---> \u001b[39m\u001b[32m44\u001b[39m photon_number = \u001b[43mnp\u001b[49m\u001b[43m.\u001b[49m\u001b[43mtrapz\u001b[49m\u001b[43m(\u001b[49m\u001b[43mI_over_hw\u001b[49m\u001b[43m,\u001b[49m\u001b[43m \u001b[49m\u001b[43msim\u001b[49m\u001b[43m.\u001b[49m\u001b[43mt\u001b[49m\u001b[43m)\u001b[49m \n\u001b[32m     46\u001b[39m \u001b[38;5;28;01mreturn\u001b[39;00m photon_number\n",
      "\u001b[36mFile \u001b[39m\u001b[32md:\\miniconda3\\Lib\\site-packages\\numpy\\lib\\_function_base_impl.py:5120\u001b[39m, in \u001b[36mtrapz\u001b[39m\u001b[34m(y, x, dx, axis)\u001b[39m\n\u001b[32m   5113\u001b[39m \u001b[38;5;250m\u001b[39m\u001b[33;03m\"\"\"\u001b[39;00m\n\u001b[32m   5114\u001b[39m \u001b[33;03m`trapz` is deprecated in NumPy 2.0.\u001b[39;00m\n\u001b[32m   5115\u001b[39m \n\u001b[32m   5116\u001b[39m \u001b[33;03mPlease use `trapezoid` instead, or one of the numerical integration\u001b[39;00m\n\u001b[32m   5117\u001b[39m \u001b[33;03mfunctions in `scipy.integrate`.\u001b[39;00m\n\u001b[32m   5118\u001b[39m \u001b[33;03m\"\"\"\u001b[39;00m\n\u001b[32m   5119\u001b[39m \u001b[38;5;66;03m# Deprecated in NumPy 2.0, 2023-08-18\u001b[39;00m\n\u001b[32m-> \u001b[39m\u001b[32m5120\u001b[39m \u001b[43mwarnings\u001b[49m\u001b[43m.\u001b[49m\u001b[43mwarn\u001b[49m\u001b[43m(\u001b[49m\n\u001b[32m   5121\u001b[39m \u001b[43m    \u001b[49m\u001b[33;43m\"\u001b[39;49m\u001b[33;43m`trapz` is deprecated. Use `trapezoid` instead, or one of the \u001b[39;49m\u001b[33;43m\"\u001b[39;49m\n\u001b[32m   5122\u001b[39m \u001b[43m    \u001b[49m\u001b[33;43m\"\u001b[39;49m\u001b[33;43mnumerical integration functions in `scipy.integrate`.\u001b[39;49m\u001b[33;43m\"\u001b[39;49m\u001b[43m,\u001b[49m\n\u001b[32m   5123\u001b[39m \u001b[43m    \u001b[49m\u001b[38;5;167;43;01mDeprecationWarning\u001b[39;49;00m\u001b[43m,\u001b[49m\n\u001b[32m   5124\u001b[39m \u001b[43m    \u001b[49m\u001b[43mstacklevel\u001b[49m\u001b[43m=\u001b[49m\u001b[32;43m2\u001b[39;49m\n\u001b[32m   5125\u001b[39m \u001b[43m\u001b[49m\u001b[43m)\u001b[49m\n\u001b[32m   5126\u001b[39m \u001b[38;5;28;01mreturn\u001b[39;00m trapezoid(y, x=x, dx=dx, axis=axis)\n",
      "\u001b[31mDeprecationWarning\u001b[39m: `trapz` is deprecated. Use `trapezoid` instead, or one of the numerical integration functions in `scipy.integrate`."
     ]
    }
   ],
   "source": [
    "#%%script false\n",
    "\n",
    "#First, make a copy of the pulse computed with the original fiber settings and nsteps\n",
    "testPulse = chirpedGaussianPulseTime(sim_config.t,amplitude,sim_config.duration,sim_config.chirp)\n",
    "A_history, _, _ = FSSM(fiber,sim_config,testPulse)\n",
    "baselinePulse = A_history[-1] # reference with 2**10 steps \n",
    "\n",
    "#Make array of the number of steps\n",
    "#nsteps_list=np.logspace(0,np.log10(fiber.nsteps),9)  \n",
    "nsteps_list=[2**0, 2**1, 2**2, 2**3, 2**4, 2**5, 2**6, 2**7, 2**8, 2**9]\n",
    "      \n",
    "#Pre-define arrays for holding errors\n",
    "err_list=np.zeros_like(nsteps_list)*1.0\n",
    "\n",
    "#Start figure and plot the pulse with the large number of steps\n",
    "plt.figure()\n",
    "plt.plot(sim_config.t,getPower(baselinePulse)/np.max(getPower(baselinePulse)),label=f\"Baseline for nsteps = {fiber.nsteps}\")\n",
    "\n",
    "#For each iteration, define a new fiber with a different number of steps but the same physical properties\n",
    "for i in range(0,len(nsteps_list)):\n",
    "  nsteps_i=int(nsteps_list[i])\n",
    "  fiber_i=Fiber_config2(nsteps_i,Length,nonlinear_length,dispersion_length,alpha_dB_per_m,beta2,gammaconstant)\n",
    "  #Run the simulation and plot the computed pulse\n",
    "  A_history, _, _ = FSSM(fiber_i,sim_config,testPulse)\n",
    "  \n",
    "  pulse_i=A_history[-1]\n",
    "  \n",
    "  plt.plot(sim_config.t,getPower(pulse_i)/np.max(getPower(pulse_i)),label=f\"Pulse for nsteps = {nsteps_i}\")\n",
    "  \n",
    "  #Compute and store errors\n",
    "  err = getEnergy(sim_config.t,(pulse_i-baselinePulse))/getEnergy(sim_config.t, baselinePulse)*100\n",
    "  err_list[i]=err\n",
    "\n",
    "plt.xlabel(\"Time [s]\")\n",
    "plt.ylabel(\"Power [a.u.]\")\n",
    "plt.title(\"Solutions for different nsteps with FSSM\")\n",
    "plt.legend(bbox_to_anchor=(1.05,0.3))\n",
    "plt.show()"
   ]
  },
  {
   "cell_type": "markdown",
   "metadata": {},
   "source": [
    "## Convergence of the solution"
   ]
  },
  {
   "cell_type": "code",
   "execution_count": null,
   "metadata": {},
   "outputs": [],
   "source": [
    "#%%script false\n",
    "\n",
    "x=np.log10(nsteps_list)\n",
    "y=np.log10(err_list/np.max(err_list))\n",
    "\n",
    "model = np.polyfit(x, y, 1)\n",
    "print(\"Model parameters [a,b]=\",model)\n",
    "y_model=np.poly1d(model)\n",
    "plt.figure()\n",
    "plt.plot(x,y_model(x),'r-',label=f\"$err(1 step)*nsteps^{  {np.round(model[0],3)}}$\")\n",
    "plt.plot(x,y,'.')\n",
    "plt.xlabel('log10(nsteps)')\n",
    "plt.ylabel('log10(err/err_max)')\n",
    "plt.title(\"Converfence of the solution with FSSM\")\n",
    "plt.legend()\n",
    "plt.show()"
   ]
  }
 ],
 "metadata": {
  "kernelspec": {
   "display_name": "base",
   "language": "python",
   "name": "python3"
  },
  "language_info": {
   "codemirror_mode": {
    "name": "ipython",
    "version": 3
   },
   "file_extension": ".py",
   "mimetype": "text/x-python",
   "name": "python",
   "nbconvert_exporter": "python",
   "pygments_lexer": "ipython3",
   "version": "3.13.7"
  }
 },
 "nbformat": 4,
 "nbformat_minor": 4
}
