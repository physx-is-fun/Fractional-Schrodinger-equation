{
 "cells": [
  {
   "cell_type": "markdown",
   "metadata": {},
   "source": [
    "# Laser pulse propagation in optical fiber"
   ]
  },
  {
   "cell_type": "markdown",
   "metadata": {},
   "source": [
    "This notebook shows a simple, scalar implementation of the finite difference <a href=\"#1\">[1]</a> for solving the Nonlinear Schrödinger Equation <a href=\"#2\">[2]</a>.\n",
    "\n",
    "$\\frac{\\partial A}{\\partial z}=-\\frac{\\alpha}{2}A+i \\frac{\\beta_2}{2} \\frac{\\partial^2 A}{\\partial t^2}-i \\gamma(|A|^2A)$\n",
    "\n",
    "This nonlinear partial differential equation models how the envelope and phase of light pulse changes when propagating through a single mode optical fiber, when taking power attenuation ($\\alpha$), group velocity dispersion ($\\beta_2$)and waveguide nonlinearity ($\\gamma$) causing self-phase modulation (SPM) into account. A is the slowly varying amplitude of the pulse envelope and t is measured in a frame of reference moving with the pulse at the group velocity $v_g$. The nonlinear Schrödinger equation (for optics) can be derived from the wave equation. However we can choose between two (Fourier transform) notations. The derivation with the negative one can be found in Ursula Keller's book <a href=\"#3\">[3]</a>. I used this, because the scipy library uses the negative convention for the DFT. Depending on the initial width $T_0$ and the peak power $P_0$ of the incident pulse, either dispersive or non linear\n",
    "effects may dominate along the fiber. It is useful to introduce two length scales, known as the dispersion length $L_D$ and the nonlinear length $L_{NL}$. Let us consider a time scale normalized to the input width $T_0$ as:\n",
    "\n",
    "$\\tau=\\frac{t}{T_0}$\n",
    "\n",
    "In addition, we introduce a normalized amplitude U as:\n",
    "\n",
    "$A(z,\\tau)=\\sqrt{P_0}e^{\\frac{- \\alpha Z}{2}}U(z,\\tau)$\n",
    "\n",
    "We now take into consideration a space scale normalized to the fiber length as:\n",
    "\n",
    "$\\zeta=\\frac{z}{L}$\n",
    "\n",
    "Where L is the fiber length. Thus, it turns out that $U(\\zeta,\\tau)$ satisfies\n",
    "\n",
    "$\\frac{\\partial U}{\\partial \\zeta}=+i \\frac{L}{2 L_D} sgn(\\beta_2) \\frac{\\partial^2 U}{\\partial \\tau^2}-i e^{- \\alpha Z \\zeta} \\frac{L}{L_{NL}} (|U|^2 U)$\n",
    "\n",
    "Where $sgn(\\beta_2)=\\pm 1$ depending on the sign of the coefficient $\\beta_2$ and\n",
    "\n",
    "$L_D=\\frac{T_0 ^ 2}{|\\beta_2|}$\n",
    "\n",
    "$L_{NL}=\\frac{1}{\\gamma_0 P_0}$\n",
    "\n",
    "The concept behind this normalization process is to exclude any kind of overflow error that may occur during solving the PDE with finite difference method. The derivation of the dimensionless transformation for the nonlinear Schrödinger equation can be found here <a href=\"#4\">[4]</a>. The plotting functions originally came from here <a href=\"#5\">[5]</a>.\n",
    "\n",
    "## References\n",
    "\n",
    "<div id=\"1\">[1] Wikimedia Foundation. (2024, November 28). Finite difference method. Wikipedia. https://en.wikipedia.org/wiki Finite_difference_method</div>\n",
    "<div id=\"2\">[2] Wikimedia Foundation. (2024, November 21). Nonlinear Schrödinger equation. Wikipedia. https://en.wikipedia.org/wiki/Nonlinear_Schr%C3%B6dinger_equation</div>\n",
    "<div id=\"3\">[3] Keller, U. (2023). Ultrafast lasers: A comprehensive introduction to fundamental principles with practical applications. Springer International Publishing.</div>\n",
    "<div id=\"4\">[4] Felice, D. (2016, December 1). A Study of a Nonlinear Schrödinger Equation for Optical Fibers. arxiv. https://arxiv.org/pdf/1612.00358</div>\n",
    "<div id=\"5\">[5] Krarup, O. (n.d.). OLEKRARUP123/NLSE-vector-solver: Code for modelling the nonlinear Schrödinger equation for optical fiber pulse propagation. GitHub. https://github.com/OleKrarup123/NLSE-vector-solver</div>"
   ]
  },
  {
   "cell_type": "markdown",
   "metadata": {},
   "source": [
    "## Importing the modules"
   ]
  },
  {
   "cell_type": "code",
   "execution_count": null,
   "metadata": {
    "tags": []
   },
   "outputs": [],
   "source": [
    "from libraries import *\n",
    "from variables import *\n",
    "from functions import *\n",
    "from classes import *"
   ]
  },
  {
   "cell_type": "markdown",
   "metadata": {},
   "source": [
    "## Initialize class about simulation parameters"
   ]
  },
  {
   "cell_type": "code",
   "execution_count": null,
   "metadata": {
    "tags": []
   },
   "outputs": [],
   "source": [
    "sim_config = SIM_config(N,Time_window,duration,wavelength0,theta,chirp)"
   ]
  },
  {
   "cell_type": "markdown",
   "metadata": {},
   "source": [
    "## Testing the defined functions"
   ]
  },
  {
   "cell_type": "code",
   "execution_count": null,
   "metadata": {
    "tags": []
   },
   "outputs": [],
   "source": [
    "# Initialize Gaussian pulse in the time domain\n",
    "testPulse = GaussianPulseTime(sim_config.t,amplitude,sim_config.duration) / amplitude\n",
    "\n",
    "fig, ax1 = plt.subplots()\n",
    "ax2 = ax1.twinx()\n",
    "plt.title(\"Initial pulse\")\n",
    "ax1.plot(sim_config.t,getPower(testPulse)/np.max(getPower(testPulse)),'g-')\n",
    "ax2.plot(sim_config.t,abs(testPulse)/np.max(abs(testPulse)),'b-')\n",
    "ax1.set_xlabel(\"Time [arbitrary unit]\")\n",
    "ax1.set_ylabel(\"Power [arbitrary unit]\", color='g')\n",
    "ax2.set_ylabel(\"Amplitude [arbitrary unit]\", color='b')\n",
    "ax1.set_ylim(0,1)\n",
    "ax2.set_ylim(0,1)\n",
    "plt.xlim(-5*sim_config.duration,5*sim_config.duration)\n",
    "savePlot('initial pulse')\n",
    "plt.show()"
   ]
  },
  {
   "cell_type": "markdown",
   "metadata": {},
   "source": [
    "## Testing the defined spectrum functions"
   ]
  },
  {
   "cell_type": "code",
   "execution_count": null,
   "metadata": {
    "tags": []
   },
   "outputs": [],
   "source": [
    "# Initialize Gaussian pulse in the frequency domain\n",
    "testSpectrumTheory = GaussianPulseFrequency(sim_config.f,sim_config.frequency0,amplitude,sim_config.duration)\n",
    "# Getting spectrum from pulse\n",
    "testSpectrum=getSpectrumFromPulse(sim_config.t,sim_config.f,testPulse)\n",
    "# Getting Gaussian spectrum\n",
    "testSpectrum_2=GaussianSpectrum(sim_config.t,sim_config.f,amplitude,1/(sim_config.duration))\n",
    "plt.figure()\n",
    "plt.title(\"Spectrum of initial pulse\")\n",
    "plt.plot(sim_config.f,getPower(testSpectrumTheory)/np.max(getPower(testSpectrumTheory)),label=\"Spectrum of the theory\")\n",
    "plt.plot(sim_config.f_rel,getPower(testSpectrum)/np.max(getPower(testSpectrum)),label=\"Spectrum of testPulse\")\n",
    "plt.plot(sim_config.f_rel,getPower(testSpectrum_2)/np.max(getPower(testSpectrum_2)),label=\"Spectrum generated with GaussianSpectrum\")\n",
    "plt.axis([-1 + sim_config.frequency0,1 + sim_config.frequency0,0,1])\n",
    "plt.xlabel(\"Frequency [arbitrary unit]\")\n",
    "plt.ylabel(\"Power spectral density [arbitrary unit]\")\n",
    "plt.legend()\n",
    "savePlot('spectrum of the initial pulse')\n",
    "plt.show()"
   ]
  },
  {
   "cell_type": "markdown",
   "metadata": {},
   "source": [
    "## Testing the FWHM function"
   ]
  },
  {
   "cell_type": "code",
   "execution_count": null,
   "metadata": {},
   "outputs": [],
   "source": [
    "# Something is odd with the product of the pulse and the spectrum's FWHM\n",
    "FWHM_frequency=FWHM(sim_config.f,getPower(testSpectrum))\n",
    "FWHM_time=FWHM(sim_config.t,getPower(testPulse))\n",
    "product=FWHM_frequency*FWHM_time\n",
    "print(f\"The product of the pulse and the spectrum's FWHM is {product}\")\n",
    "print(f\"The dispersion length is {dispersion_length} m\")\n",
    "print(f\"The nonlinear length is {nonlinear_length} m\")"
   ]
  },
  {
   "cell_type": "markdown",
   "metadata": {},
   "source": [
    "## Initialize class about fiber"
   ]
  },
  {
   "cell_type": "code",
   "execution_count": null,
   "metadata": {},
   "outputs": [],
   "source": [
    "#fiber=Fiber_config(nsteps,Length,nonlinear_length,dispersion_length,alpha_dB_per_m)\n",
    "fiber=Fiber_config(nsteps,Length,nonlinear_length,dispersion_length,alpha_dB_per_km)"
   ]
  },
  {
   "cell_type": "markdown",
   "metadata": {},
   "source": [
    "# Run Simulation"
   ]
  },
  {
   "cell_type": "code",
   "execution_count": null,
   "metadata": {},
   "outputs": [],
   "source": [
    "%%script false\n",
    "pulseMatrix, spectrumMatrix = Simulation(fiber,sim_config,testPulse,'EFORK3')\n",
    "testPulse0=np.copy(pulseMatrix[0,:])\n",
    "testSpectrum0=np.copy(spectrumMatrix[0,:])\n",
    "testPulseFinal=np.copy(pulseMatrix[-1,:])\n",
    "testSpectrumFinal=np.copy(spectrumMatrix[-1,:])"
   ]
  },
  {
   "cell_type": "markdown",
   "metadata": {},
   "source": [
    "## Initialize functions for plotting the results"
   ]
  },
  {
   "cell_type": "code",
   "execution_count": null,
   "metadata": {},
   "outputs": [],
   "source": [
    "%%script false\n",
    "FWHM_time_final=FWHM(sim_config.t,getPower(testPulseFinal))\n",
    "FWHM_frequency_final=FWHM(sim_config.f_rel,getPower(testSpectrumFinal))\n",
    "print(\"FWHM_time_final\",FWHM_time_final)\n",
    "print(\"FWHM_frequency_final\",FWHM_frequency_final)\n",
    "plotFirstAndLastPulse(pulseMatrix,sim_config)\n",
    "plotPulseMatrix2D(pulseMatrix,fiber,sim_config)\n",
    "plotFirstAndLastSpectrum(spectrumMatrix,sim_config,FWHM_frequency_final)\n",
    "plotSpectrumMatrix2D(spectrumMatrix,fiber,sim_config,FWHM_frequency_final)\n",
    "plotSpectrogram(sim_config, pulseMatrix[0,:], 50, 2000, sim_config.time_step, label='initial')\n",
    "plotSpectrogram(sim_config, pulseMatrix[-1,:], 50, 2000, sim_config.time_step, label='final')"
   ]
  },
  {
   "cell_type": "markdown",
   "metadata": {},
   "source": [
    "## Fractional order between 0.5 and 1.0 - The time domain"
   ]
  },
  {
   "cell_type": "code",
   "execution_count": null,
   "metadata": {},
   "outputs": [],
   "source": [
    "%%script false\n",
    "#EFORK3 N= 2**10; Time_window=2000; nsteps=2**10\n",
    "alphas = [0.5, 0.6, 0.7, 0.8, 0.9, 1.0]\n",
    "t=sim_config.t\n",
    "plt.figure()\n",
    "testPulse = chirpedGaussianPulseTime(sim_config.t,amplitude,sim_config.duration, sim_config.chirp) / amplitude\n",
    "power = getPower(testPulse)\n",
    "maximum_power=np.max(power)\n",
    "plt.plot(t,power/maximum_power,label=\"Initial pulse\")\n",
    "myfile = open('results.txt', 'w')\n",
    "for element in alphas:\n",
    "    sim_config = SIM_config(N,Time_window,frequency0,wavelength0,element, chirp)\n",
    "    pulseMatrix, spectrumMatrix = Simulation(fiber,sim_config,testPulse,'EFORK3')\n",
    "    plt.plot(t,getPower(pulseMatrix[-1,:])/maximum_power,label=f\"Fractional order: {element}\")\n",
    "    testPulseFinal=np.copy(pulseMatrix[-1,:])\n",
    "    testSpectrumFinal=np.copy(spectrumMatrix[-1,:])\n",
    "    \n",
    "    FWHM_time_final=analyze_pulse_characteristics(sim_config.t, getPower(testPulseFinal), 0.5)\n",
    "    FWHM_frequency_final=analyze_pulse_characteristics(sim_config.f_rel,getPower(testSpectrumFinal), 0.5)\n",
    "    FW5percentM_time_final = analyze_pulse_characteristics(sim_config.t, getPower(testPulseFinal), 0.05)\n",
    "    FW5percentM_frequency_final=analyze_pulse_characteristics(sim_config.f_rel,getPower(testSpectrumFinal), 0.05)\n",
    "    \n",
    "    myfile.write(f\"{element},{FWHM_time_final},{FWHM_frequency_final},{FW5percentM_time_final},{FW5percentM_frequency_final}\\n\")\n",
    "myfile.close()\n",
    "plt.title(\"Fractional order between 0.5 and 1.0\")\n",
    "plt.axis([-100,100,0,1])\n",
    "plt.xlabel(\"Time [arbitrary unit]\")\n",
    "plt.ylabel(\"Power [arbitrary unit]\")\n",
    "#savePlot('Fractional order between 0.1 and 1.0')\n",
    "plt.legend(bbox_to_anchor=(1.05,0.3))\n",
    "plt.show()"
   ]
  },
  {
   "cell_type": "markdown",
   "metadata": {},
   "source": [
    "## Fractional order between 0.5 and 1.0 - The frequency domain"
   ]
  },
  {
   "cell_type": "code",
   "execution_count": null,
   "metadata": {},
   "outputs": [],
   "source": [
    "%%script false\n",
    "#EFORK3 N= 2**11; Time_window=3000; nsteps=2**10\n",
    "alphas = [0.5, 0.6, 0.7, 0.8, 0.9, 1.0]\n",
    "plt.figure()\n",
    "testPulse = chirpedGaussianPulseTime(sim_config.t,amplitude,sim_config.duration, sim_config.chirp) / amplitude\n",
    "testSpectrum = getSpectrumFromPulse(sim_config.t,sim_config.f,testPulse)\n",
    "power = getPower(testSpectrum)\n",
    "maximum_power=np.max(power)\n",
    "plt.plot(sim_config.f,power/maximum_power,label=\"Initial pulse\")\n",
    "myfile = open('results.txt', 'w')\n",
    "for element in alphas:\n",
    "    sim_config = SIM_config(N,Time_window,frequency0,wavelength0,element, chirp)\n",
    "    _, spectrumMatrix = Simulation(fiber,sim_config,testPulse,'EFORK3')\n",
    "    plt.plot(sim_config.f,getPower(spectrumMatrix[-1,:])/maximum_power,label=f\"Fractional order: {element}\")\n",
    "\n",
    "plt.title(\"Fractional order between 0.5 and 1.0\")\n",
    "plt.axis([-0.5,0.5,0,1])\n",
    "plt.xlabel(\"Frequency [arbitrary unit]\")\n",
    "plt.ylabel(\"Spectral Power [arbitrary unit]\")\n",
    "#savePlot('Fractional order between 0.1 and 1.0')\n",
    "plt.legend(bbox_to_anchor=(1.05,0.3))\n",
    "plt.show()"
   ]
  },
  {
   "cell_type": "markdown",
   "metadata": {},
   "source": [
    "## Checking how reducing the number of steps affects pulse accuracy"
   ]
  },
  {
   "cell_type": "code",
   "execution_count": null,
   "metadata": {},
   "outputs": [],
   "source": [
    "%%script false\n",
    "\n",
    "#First, make a copy of the pulse computed with the original fiber settings and nsteps\n",
    "baselinePulse = np.copy(testPulseFinal) # reference with 2**14 steps \n",
    "\n",
    "#Make array of the number of steps\n",
    "#nsteps_list=np.logspace(0,np.log10(fiber.nsteps),9)  \n",
    "nsteps_list=[2**13, 2**14, 2**15]\n",
    "      \n",
    "#Pre-define arrays for holding errors\n",
    "err_list=np.zeros_like(nsteps_list)*1.0\n",
    "\n",
    "#Start figure and plot the pulse with the large number of steps\n",
    "plt.figure()\n",
    "plt.plot(sim_config.t,getPower(baselinePulse)/np.max(getPower(baselinePulse)),label=f\"Baseline for nsteps = {fiber.nsteps}\")\n",
    "\n",
    "#For each iteration, define a new fiber with a different number of steps but the same physical properties\n",
    "for i in range(0,len(nsteps_list)):\n",
    "  nsteps_i=int(nsteps_list[i])\n",
    "  fiber_i=Fiber_config(nsteps_i,Length,nonlinear_length,dispersion_length,alpha_dB_per_km)\n",
    "  \n",
    "  #Run the simulation and plot the computed pulse\n",
    "  pulseMatrix_i,_= Simulation(fiber_i,sim_config,testPulse,'EFORK3')\n",
    "  \n",
    "  pulse_i=pulseMatrix_i[-1,:]\n",
    "  \n",
    "  plt.plot(sim_config.t,getPower(pulse_i)/np.max(getPower(pulse_i)),label=f\"Pulse for nsteps = {nsteps_i}\")\n",
    "  \n",
    "  #Compute and store errors\n",
    "  err = getEnergy(sim_config.t,(pulse_i-baselinePulse))/getEnergy(sim_config.t, baselinePulse)*100\n",
    "  err_list[i]=err\n",
    "\n",
    "plt.xlabel(\"Time [a.u.]\")\n",
    "plt.ylabel(\"Power [a.u.]\")\n",
    "plt.title(\"Impulse solutions for different nsteps with EFORK3 method\")\n",
    "plt.legend(bbox_to_anchor=(1.05,0.3))\n",
    "plt.show()"
   ]
  },
  {
   "cell_type": "markdown",
   "metadata": {},
   "source": [
    "## Convergence of the solution"
   ]
  },
  {
   "cell_type": "code",
   "execution_count": null,
   "metadata": {},
   "outputs": [],
   "source": [
    "%%script false\n",
    "\n",
    "x=np.log10(nsteps_list)\n",
    "y=np.log10(err_list/np.max(err_list))\n",
    "\n",
    "model = np.polyfit(x, y, 1)\n",
    "print(\"Model parameters [a,b]=\",model)\n",
    "y_model=np.poly1d(model)\n",
    "plt.figure()\n",
    "plt.plot(x,y_model(x),'r-',label=f\"$err(1 step)*nsteps^{  {np.round(model[0],3)}}$\")\n",
    "plt.plot(x,y,'.')\n",
    "plt.xlabel('log10(nsteps)')\n",
    "plt.ylabel('log10(err/err_max)')\n",
    "plt.title(\"Converfence of the solution with EFORK3 method\")\n",
    "plt.legend()\n",
    "plt.show()"
   ]
  },
  {
   "cell_type": "markdown",
   "metadata": {},
   "source": [
    "## Chirped Gaussian pulse for GVD term only"
   ]
  },
  {
   "cell_type": "code",
   "execution_count": null,
   "metadata": {},
   "outputs": [],
   "source": [
    "%%script false\n",
    "#EFORK3 N= 2**10; Time_window=1500; nsteps=2**15\n",
    "chirp_parameters = [-2, 0, 2]\n",
    "normalized_zlocs_array = np.linspace(0,fiber.length,fiber.nsteps) / fiber.dispersion_length\n",
    "plt.figure()\n",
    "for m in chirp_parameters:\n",
    "    sim_config = SIM_config(N,Time_window,duration,wavelength0,theta,m)\n",
    "    fiber = Fiber_config(nsteps,Length,nonlinear_length,dispersion_length,alpha_dB_per_km)\n",
    "    testPulse = chirpedGaussianPulseTime(sim_config.t,amplitude,sim_config.duration,sim_config.chirp) / amplitude\n",
    "    pulseMatrix, _ = Simulation(fiber,sim_config,testPulse,'EFORK3')\n",
    "    testPulse0 = np.copy(pulseMatrix[0,:])\n",
    "    FWHM_testPulse0 = analyze_pulse_characteristics(sim_config.t,getPower(testPulse0)/np.max(getPower(testPulse0)),0.5)\n",
    "    broadening_factor_simulation = np.zeros(fiber.nsteps)\n",
    "    for n in range(fiber.nsteps):\n",
    "        testPulse_index = np.copy(pulseMatrix[n,:])\n",
    "        FWHM_testPulse_index = analyze_pulse_characteristics(sim_config.t,getPower(testPulse_index)/np.max(getPower(testPulse_index)),0.5)\n",
    "        broadening_factor_simulation[n] = FWHM_testPulse_index / FWHM_testPulse0\n",
    "    plt.plot(normalized_zlocs_array,broadening_factor_simulation,'.',label=f\"Chirp parameter = {m}\")\n",
    "plt.xlabel('z/L_D')\n",
    "plt.ylabel('Broadening factor')\n",
    "plt.title(\"Broadening factor vs. normalized propagation distance for different chirp parameters\")\n",
    "#plt.axis([0,0.05,0,5])\n",
    "plt.legend()\n",
    "plt.show()"
   ]
  },
  {
   "cell_type": "markdown",
   "metadata": {},
   "source": [
    "## Chirped Gaussian pulse for SPM term only"
   ]
  },
  {
   "cell_type": "code",
   "execution_count": null,
   "metadata": {},
   "outputs": [],
   "source": [
    "%%script false\n",
    "#EFORK3 N= 2**10; Time_window=5000; nsteps=2**16\n",
    "chirp_parameters = [-20, -10, 0, 10]\n",
    "fiber_length = 4.5 * np.pi * nonlinear_length\n",
    "plt.figure()\n",
    "for m in chirp_parameters:\n",
    "    sim_config = SIM_config(N,Time_window,duration,wavelength0,theta,m)\n",
    "    fiber = Fiber_config(nsteps,fiber_length,nonlinear_length,dispersion_length,0)\n",
    "    testPulse = chirpedGaussianPulseTime(sim_config.t,amplitude,sim_config.duration,sim_config.chirp) / amplitude\n",
    "    _, spectrumMatrix = Simulation(fiber,sim_config,testPulse,'Euler')\n",
    "    power = getPower(spectrumMatrix[-1,:])\n",
    "    maximum_power=np.max(power)\n",
    "    plt.plot(sim_config.f,power/maximum_power,'-',label=f\"Chirp parameter = {m}\")\n",
    "plt.xlabel(\"Frequency [arbitrary unit]\")\n",
    "plt.ylabel(\"Power spectral density [arbitrary unit]\")\n",
    "plt.title(\"Power spectral density vs. frequency for different chirp parameters\")\n",
    "plt.axis([-2,2,0,1])\n",
    "plt.legend()\n",
    "plt.show()"
   ]
  }
 ],
 "metadata": {
  "kernelspec": {
   "display_name": "base",
   "language": "python",
   "name": "python3"
  },
  "language_info": {
   "codemirror_mode": {
    "name": "ipython",
    "version": 3
   },
   "file_extension": ".py",
   "mimetype": "text/x-python",
   "name": "python",
   "nbconvert_exporter": "python",
   "pygments_lexer": "ipython3",
   "version": "3.11.5"
  }
 },
 "nbformat": 4,
 "nbformat_minor": 4
}
